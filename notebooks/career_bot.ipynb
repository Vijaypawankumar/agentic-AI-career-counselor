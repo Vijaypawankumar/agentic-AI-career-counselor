# Career Counseling Bot Logic

def get_career_advice(interests, strengths):
    if "AI" in interests and "design" in interests:
        return [
            "UX Designer in AI",
            "AI Product Manager",
            "Creative Technologist"
        ]
    elif "electronics" in strengths:
        return [
            "Embedded Systems Engineer",
            "IoT Solutions Architect",
            "Robotics Engineer"
        ]
    # Add more logic or LLM integration here
